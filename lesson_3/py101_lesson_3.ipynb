{
  "nbformat": 4,
  "nbformat_minor": 0,
  "metadata": {
    "colab": {
      "provenance": [],
      "toc_visible": true,
      "authorship_tag": "ABX9TyPhgOVMgvMYtT24gT3B7tmA",
      "include_colab_link": true
    },
    "kernelspec": {
      "name": "python3",
      "display_name": "Python 3"
    },
    "language_info": {
      "name": "python"
    }
  },
  "cells": [
    {
      "cell_type": "markdown",
      "metadata": {
        "id": "view-in-github",
        "colab_type": "text"
      },
      "source": [
        "<a href=\"https://colab.research.google.com/github/harutmark/py101/blob/main/py101/lesson_3/py101_lesson_3.ipynb\" target=\"_parent\"><img src=\"https://colab.research.google.com/assets/colab-badge.svg\" alt=\"Open In Colab\"/></a>"
      ]
    },
    {
      "cell_type": "markdown",
      "source": [
        "# Python 101, Lesson 3: Practice Problems"
      ],
      "metadata": {
        "id": "i6kqKB0Vh-3Y"
      }
    },
    {
      "cell_type": "markdown",
      "source": [
        "## Easy 2\n"
      ],
      "metadata": {
        "id": "ZRuVrV98inmE"
      }
    },
    {
      "cell_type": "markdown",
      "source": [
        "### Question 1\n",
        "Write two distinct ways of reversing the list without mutating the original list.\n",
        "```python\n",
        "numbers = [1, 2, 3, 4, 5]     # [5, 4, 3, 2, 1]\n",
        "```\n"
      ],
      "metadata": {
        "id": "L1Y9ZanGitmT"
      }
    },
    {
      "cell_type": "code",
      "source": [
        "numbers = [1, 2, 3, 4, 5]\n",
        "srebmun_1 = numbers[::-1]\n",
        "srebmun_2 = list(reversed(numbers))\n",
        "\n",
        "print(numbers)\n",
        "print(srebmun_1)\n",
        "print(srebmun_2)"
      ],
      "metadata": {
        "colab": {
          "base_uri": "https://localhost:8080/"
        },
        "id": "HCbaI8XkitLI",
        "outputId": "a6dbc682-4d44-4f0c-c294-4a4503065520"
      },
      "execution_count": null,
      "outputs": [
        {
          "output_type": "stream",
          "name": "stdout",
          "text": [
            "[1, 2, 3, 4, 5]\n",
            "[5, 4, 3, 2, 1]\n",
            "[5, 4, 3, 2, 1]\n"
          ]
        }
      ]
    },
    {
      "cell_type": "markdown",
      "source": [
        "### Question 2\n",
        "Given a number and a list, determine whether the number is included in the list.\n",
        "```python\n",
        "numbers = [1, 2, 3, 4, 5, 15, 16, 17, 95, 96, 99]\n",
        "\n",
        "number1 = 8  # False (not in numbers)\n",
        "number2 = 95 # True (in numbers)\n",
        "```"
      ],
      "metadata": {
        "id": "BRgT-Fnql0t8"
      }
    },
    {
      "cell_type": "code",
      "source": [
        "numbers = [1, 2, 3, 4, 5, 15, 16, 17, 95, 96, 99]\n",
        "\n",
        "number1 = 8  # False (not in numbers)\n",
        "number2 = 95 # True (in numbers)\n",
        "\n",
        "print(number1 in numbers)\n",
        "print(number2 in numbers)"
      ],
      "metadata": {
        "colab": {
          "base_uri": "https://localhost:8080/"
        },
        "id": "VNIfCh8piz4p",
        "outputId": "a5b2a81c-e651-433e-bd25-7d15577ce7c8"
      },
      "execution_count": null,
      "outputs": [
        {
          "output_type": "stream",
          "name": "stdout",
          "text": [
            "False\n",
            "True\n"
          ]
        }
      ]
    },
    {
      "cell_type": "markdown",
      "source": [
        "### Question 3\n",
        "Programmatically determine whether 42 lies between 10 and 100, inclusive. Do the same for the values 100 and 101."
      ],
      "metadata": {
        "id": "x_GYv437mNbt"
      }
    },
    {
      "cell_type": "code",
      "source": [
        "print(42 in range(10, 101))          # True\n",
        "print(100 in range(10, 101))         # True\n",
        "print(101 in range(10, 101))         # False"
      ],
      "metadata": {
        "colab": {
          "base_uri": "https://localhost:8080/"
        },
        "id": "EISLiczImF7S",
        "outputId": "fed1fe91-fa9b-482e-dd1c-61794efb23ce"
      },
      "execution_count": null,
      "outputs": [
        {
          "output_type": "stream",
          "name": "stdout",
          "text": [
            "True\n",
            "True\n",
            "False\n"
          ]
        }
      ]
    },
    {
      "cell_type": "markdown",
      "source": [
        "### Question 4\n",
        "Given a list of numbers [1, 2, 3, 4, 5], mutate the list by removing the number at index 2, so that the list becomes [1, 2, 4, 5].\n",
        "\n"
      ],
      "metadata": {
        "id": "kCC_-3Ngm0qW"
      }
    },
    {
      "cell_type": "code",
      "source": [
        "my_list = list(range(1, 6))\n",
        "my_list.pop(2)\n",
        "print(my_list)"
      ],
      "metadata": {
        "colab": {
          "base_uri": "https://localhost:8080/"
        },
        "id": "_9jlBOsdmhtE",
        "outputId": "5f5f27bc-92f1-4eff-9f03-f55730c0e851"
      },
      "execution_count": null,
      "outputs": [
        {
          "output_type": "stream",
          "name": "stdout",
          "text": [
            "[1, 2, 4, 5]\n"
          ]
        }
      ]
    },
    {
      "cell_type": "code",
      "source": [
        "numbers = [1, 2, 3, 4, 5]\n",
        "del numbers[2]\n",
        "print(numbers)  # [1, 2, 4, 5]"
      ],
      "metadata": {
        "colab": {
          "base_uri": "https://localhost:8080/"
        },
        "id": "ppv87-dKn7eX",
        "outputId": "a64135a2-bef8-4852-828f-a3f9365d6828"
      },
      "execution_count": null,
      "outputs": [
        {
          "output_type": "stream",
          "name": "stdout",
          "text": [
            "[1, 2, 4, 5]\n"
          ]
        }
      ]
    },
    {
      "cell_type": "markdown",
      "source": [
        "### Question 5\n",
        "How would you verify whether the data structures assigned to the variables numbers and table are of type list?\n",
        "\n"
      ],
      "metadata": {
        "id": "5895SBHNoBZD"
      }
    },
    {
      "cell_type": "code",
      "source": [
        "numbers = [1, 2, 3, 4]\n",
        "table = {'field1': 1, 'field2': 2, 'field3': 3, 'field4': 4}\n",
        "\n",
        "print(type(numbers))\n",
        "print(type(table))\n",
        "\n",
        "print(isinstance(numbers, list))\n",
        "print(isinstance(table, list))"
      ],
      "metadata": {
        "colab": {
          "base_uri": "https://localhost:8080/"
        },
        "id": "i8ZwXRAsnBbo",
        "outputId": "c498d5aa-2b8a-415b-94e2-708d4bb40177"
      },
      "execution_count": null,
      "outputs": [
        {
          "output_type": "stream",
          "name": "stdout",
          "text": [
            "<class 'list'>\n",
            "<class 'dict'>\n",
            "True\n",
            "False\n"
          ]
        }
      ]
    },
    {
      "cell_type": "markdown",
      "source": [
        "### Question 6\n",
        "Back in the stone age (before CSS), we used spaces to align things on the screen. If we have a 40-character wide table of Flintstone family members, how can we center the following title above the table with spaces?\n",
        "\n"
      ],
      "metadata": {
        "id": "gItEXUAior70"
      }
    },
    {
      "cell_type": "code",
      "source": [
        "title = \"Flintstone Family Members\"\n",
        "centered_title = (((40 - len(title)) // 2) * \" \") + title\n",
        "print(centered_title)\n",
        "print(\"F\" * 40)"
      ],
      "metadata": {
        "colab": {
          "base_uri": "https://localhost:8080/"
        },
        "id": "510mKKwposgI",
        "outputId": "558cba33-bb6f-46a9-e90a-86bb818c5457"
      },
      "execution_count": null,
      "outputs": [
        {
          "output_type": "stream",
          "name": "stdout",
          "text": [
            "       Flintstone Family Members\n",
            "FFFFFFFFFFFFFFFFFFFFFFFFFFFFFFFFFFFFFFFF\n"
          ]
        }
      ]
    },
    {
      "cell_type": "code",
      "source": [
        "centered_title = title.center(40)\n",
        "print(centered_title)\n",
        "print('F' * 40)"
      ],
      "metadata": {
        "colab": {
          "base_uri": "https://localhost:8080/"
        },
        "id": "3Sk0OjDvo84T",
        "outputId": "d1eff802-2e8b-4848-8800-a712bfd30e16"
      },
      "execution_count": null,
      "outputs": [
        {
          "output_type": "stream",
          "name": "stdout",
          "text": [
            "       Flintstone Family Members        \n",
            "FFFFFFFFFFFFFFFFFFFFFFFFFFFFFFFFFFFFFFFF\n"
          ]
        }
      ]
    },
    {
      "cell_type": "markdown",
      "source": [
        "### Question 7\n",
        "Write a one-liner to count the number of lower-case t characters in each of the following strings:\n",
        "\n"
      ],
      "metadata": {
        "id": "qbdsnaWjzHO6"
      }
    },
    {
      "cell_type": "code",
      "source": [
        "statement1 = \"The Flintstones Rock!\"\n",
        "statement2 = \"Easy come, easy go.\"\n",
        "\n",
        "print(statement1.count('t'))\n",
        "print(statement2.count('t'))"
      ],
      "metadata": {
        "colab": {
          "base_uri": "https://localhost:8080/"
        },
        "id": "aUW0q65CySEx",
        "outputId": "390e44ab-4025-49c0-d05a-f6cdfbe715ab"
      },
      "execution_count": null,
      "outputs": [
        {
          "output_type": "stream",
          "name": "stdout",
          "text": [
            "2\n",
            "0\n"
          ]
        }
      ]
    },
    {
      "cell_type": "markdown",
      "source": [
        "### Question 8\n",
        "Determine whether the following dictionary of people and their age contains an entry for 'Spot':"
      ],
      "metadata": {
        "id": "yKBH8_DMzaFg"
      }
    },
    {
      "cell_type": "code",
      "source": [
        "ages = {'Herman': 32, 'Lily': 30, 'Grandpa': 402, 'Eddie': 10}\n",
        "\n",
        "print('Spot' in ages)"
      ],
      "metadata": {
        "colab": {
          "base_uri": "https://localhost:8080/"
        },
        "id": "qNir9AkbzUGF",
        "outputId": "c3ea3982-7cde-496b-87b2-36fa10561b98"
      },
      "execution_count": null,
      "outputs": [
        {
          "output_type": "stream",
          "name": "stdout",
          "text": [
            "False\n"
          ]
        }
      ]
    },
    {
      "cell_type": "markdown",
      "source": [
        "### Question 9\n",
        "We have most of the Munster family in our ages dictionary:\n",
        "```python\n",
        "ages = {'Herman': 32, 'Lily': 30, 'Grandpa': 5843, 'Eddie': 10}\n",
        "```\n",
        "Add entries for Marilyn and Spot to the dictionary:\n",
        "```\n",
        "additional_ages = {'Marilyn': 22, 'Spot': 237}\n",
        "```\n"
      ],
      "metadata": {
        "id": "ogqhnQ-bzmKr"
      }
    },
    {
      "cell_type": "code",
      "source": [
        "ages = {'Herman': 32, 'Lily': 30, 'Grandpa': 5843, 'Eddie': 10}\n",
        "additional_ages = {'Marilyn': 22, 'Spot': 237}\n",
        "\n",
        "ages.update(additional_ages)\n",
        "print(ages)"
      ],
      "metadata": {
        "colab": {
          "base_uri": "https://localhost:8080/"
        },
        "id": "mYEKNxOgzieG",
        "outputId": "01811664-e4ed-498b-9a86-74ed58222960"
      },
      "execution_count": null,
      "outputs": [
        {
          "output_type": "stream",
          "name": "stdout",
          "text": [
            "{'Herman': 32, 'Lily': 30, 'Grandpa': 5843, 'Eddie': 10, 'Marilyn': 22, 'Spot': 237}\n"
          ]
        }
      ]
    },
    {
      "cell_type": "markdown",
      "source": [
        "## Practice Problems: Easy 3\n"
      ],
      "metadata": {
        "id": "qtOf5rBd1YOd"
      }
    },
    {
      "cell_type": "markdown",
      "source": [
        "### Question 1\n",
        "Write two different ways to remove all of the elements from the following list:\n",
        "\n"
      ],
      "metadata": {
        "id": "FT7Rwl0t1dXe"
      }
    },
    {
      "cell_type": "code",
      "source": [
        "numbers = [1, 2, 3, 4]\n",
        "numbers.clear()\n",
        "print(numbers)\n",
        "\n",
        "numbers = [1, 2, 3, 4]\n",
        "numbers = numbers[0:0]\n",
        "print(numbers)\n",
        "\n",
        "numbers = [1, 2, 3, 4]\n",
        "while numbers:\n",
        "    numbers.pop()\n",
        "print(numbers)"
      ],
      "metadata": {
        "colab": {
          "base_uri": "https://localhost:8080/"
        },
        "id": "WknU_2o3z6Kw",
        "outputId": "e2270317-6d8f-4a76-db16-adf71b817d2f"
      },
      "execution_count": null,
      "outputs": [
        {
          "output_type": "stream",
          "name": "stdout",
          "text": [
            "[]\n",
            "[]\n",
            "[]\n"
          ]
        }
      ]
    },
    {
      "cell_type": "markdown",
      "source": [
        "### Question 2\n",
        "What will the following code output?\n"
      ],
      "metadata": {
        "id": "VjoHOvfo2NLf"
      }
    },
    {
      "cell_type": "code",
      "source": [
        "print([1, 2, 3] + [4, 5])"
      ],
      "metadata": {
        "colab": {
          "base_uri": "https://localhost:8080/"
        },
        "id": "ZBdA9I_m1wMb",
        "outputId": "909324dc-2e48-4749-aa4f-55ffaaf6228f"
      },
      "execution_count": null,
      "outputs": [
        {
          "output_type": "stream",
          "name": "stdout",
          "text": [
            "[1, 2, 3, 4, 5]\n"
          ]
        }
      ]
    },
    {
      "cell_type": "markdown",
      "source": [
        "In Python, you can use the + operator to concatenate two lists. This operation merges the second list into the first one, producing a new combined list.\n",
        "\n"
      ],
      "metadata": {
        "id": "UT0j1JGg2Y27"
      }
    },
    {
      "cell_type": "markdown",
      "source": [
        "### Question 3\n",
        "What will the following code output?"
      ],
      "metadata": {
        "id": "t5wZ4qb52bui"
      }
    },
    {
      "cell_type": "code",
      "source": [
        "str1 = \"hello there\"\n",
        "str2 = str1\n",
        "str2 = \"goodbye!\"\n",
        "print(str1)"
      ],
      "metadata": {
        "colab": {
          "base_uri": "https://localhost:8080/"
        },
        "id": "Ovx86H2z2XOQ",
        "outputId": "92162dc5-c1e4-413a-d3dd-7492e725bc8b"
      },
      "execution_count": null,
      "outputs": [
        {
          "output_type": "stream",
          "name": "stdout",
          "text": [
            "hello there\n"
          ]
        }
      ]
    },
    {
      "cell_type": "markdown",
      "source": [
        "### Question 4\n",
        "What will the following code output?"
      ],
      "metadata": {
        "id": "u6DVVzVK2620"
      }
    },
    {
      "cell_type": "code",
      "source": [
        "my_list1 = [{\"first\": \"value1\"}, {\"second\": \"value2\"}, 3, 4, 5]\n",
        "my_list2 = my_list1.copy()\n",
        "my_list2[0]['first'] = 42\n",
        "print(my_list1)"
      ],
      "metadata": {
        "id": "-eR_oxjV22Ui"
      },
      "execution_count": null,
      "outputs": []
    },
    {
      "cell_type": "markdown",
      "source": [
        ".copy() makes a shallow copy, which makes a copy of normal items in a collection, but doesn't make a copy of any nested items in a collection. Since my_list[0:1] are nested dictionaries, python just makes another arrown (reference) to those dictionaries in the stack, it doesnt allocate new space for anothe copy of the nested objects in the stack."
      ],
      "metadata": {
        "id": "mWgN7o9M4Mgg"
      }
    },
    {
      "cell_type": "markdown",
      "source": [
        "### Question 5\n",
        "The following function unnecessarily uses two return statements to return boolean values. Can you rewrite this function so it only has one return statement and does not explicitly use either True or False?\n",
        "```python\n",
        "def is_color_valid(color):\n",
        "    if color == \"blue\" or color == \"green\":\n",
        "        return True\n",
        "    else:\n",
        "        return False\n",
        "```\n",
        "Try to come up with two different solutions.\n",
        "\n"
      ],
      "metadata": {
        "id": "B_se36A24p7N"
      }
    },
    {
      "cell_type": "code",
      "source": [
        "def is_color_valid(color):\n",
        "    return color == \"blue\" or color == \"green\""
      ],
      "metadata": {
        "id": "3mtPM6lD29Yj"
      },
      "execution_count": null,
      "outputs": []
    },
    {
      "cell_type": "code",
      "source": [
        "def is_color_valid(color):\n",
        "    return color in [\"blue\", \"green\"]"
      ],
      "metadata": {
        "id": "OqYvzDUq48u8"
      },
      "execution_count": null,
      "outputs": []
    },
    {
      "cell_type": "markdown",
      "source": [
        "## Medium 1\n",
        "\n"
      ],
      "metadata": {
        "id": "ugeBhkArjt77"
      }
    },
    {
      "cell_type": "markdown",
      "source": [
        "### Question 1\n",
        "Let's do some \"ASCII Art\": a stone-age form of nerd artwork from back in the days before computers had video screens.\n",
        "\n",
        "For this practice problem, write a program that outputs The Flintstones Rock! 10 times, with each line prefixed by one more hyphen than the line above it. The output should start out like this:\n",
        "\n",
        "```\n",
        "-The Flintstones Rock!\n",
        "--The Flintstones Rock!\n",
        "---The Flintstones Rock!\n",
        "    ...\n",
        "```"
      ],
      "metadata": {
        "id": "wtqlFcMPj1mX"
      }
    },
    {
      "cell_type": "code",
      "source": [
        "message = \"The Flintstones Rock!\"\n",
        "for i in range(0,10):\n",
        "    message = \"-\" + message\n",
        "    print(message)\n"
      ],
      "metadata": {
        "colab": {
          "base_uri": "https://localhost:8080/"
        },
        "id": "8GwIAvN8jxsR",
        "outputId": "1cce0743-2e6b-434d-b225-a93dd368325d"
      },
      "execution_count": null,
      "outputs": [
        {
          "output_type": "stream",
          "name": "stdout",
          "text": [
            "-The Flintstones Rock!\n",
            "--The Flintstones Rock!\n",
            "---The Flintstones Rock!\n",
            "----The Flintstones Rock!\n",
            "-----The Flintstones Rock!\n",
            "------The Flintstones Rock!\n",
            "-------The Flintstones Rock!\n",
            "--------The Flintstones Rock!\n",
            "---------The Flintstones Rock!\n",
            "----------The Flintstones Rock!\n"
          ]
        }
      ]
    },
    {
      "cell_type": "code",
      "source": [
        "# LS Solution\n",
        "for padding in range(1, 11):\n",
        "    print(f'{\"-\" * padding}The Flintstones Rock!')"
      ],
      "metadata": {
        "colab": {
          "base_uri": "https://localhost:8080/"
        },
        "id": "4HCHbHSdkfat",
        "outputId": "832e8621-febb-458a-bdb5-ff9045518a0d"
      },
      "execution_count": null,
      "outputs": [
        {
          "output_type": "stream",
          "name": "stdout",
          "text": [
            "-The Flintstones Rock!\n",
            "--The Flintstones Rock!\n",
            "---The Flintstones Rock!\n",
            "----The Flintstones Rock!\n",
            "-----The Flintstones Rock!\n",
            "------The Flintstones Rock!\n",
            "-------The Flintstones Rock!\n",
            "--------The Flintstones Rock!\n",
            "---------The Flintstones Rock!\n",
            "----------The Flintstones Rock!\n"
          ]
        }
      ]
    },
    {
      "cell_type": "markdown",
      "source": [
        "### Question 2\n",
        "Alan wrote the following function, which was intended to return all of the factors of number:\n",
        "\n",
        "```python\n",
        "def factors(number):\n",
        "    divisor = number\n",
        "    result = []\n",
        "    while divisor != 0:\n",
        "        if number % divisor == 0:\n",
        "            result.append(number // divisor)\n",
        "        divisor -= 1\n",
        "    return result\n",
        "```\n",
        "Alyssa noticed that this code would fail when the input is a negative number, and asked Alan to change the loop. How can he make this work? Note that we're not looking to find the factors for negative numbers, but we want to handle it gracefully instead of going into an infinite loop."
      ],
      "metadata": {
        "id": "rMz7nM_Qk9tl"
      }
    },
    {
      "cell_type": "code",
      "source": [
        "def factors(number):\n",
        "    divisor = number\n",
        "    result = []\n",
        "    while divisor > 0:\n",
        "        if number % divisor == 0:\n",
        "            result.append(number // divisor)\n",
        "        divisor -= 1\n",
        "    if number <= 0:\n",
        "        return ValueError\n",
        "    return result\n",
        "\n",
        "factors(15)"
      ],
      "metadata": {
        "colab": {
          "base_uri": "https://localhost:8080/"
        },
        "id": "xJEnOEibk3Up",
        "outputId": "3f92fde1-25cf-42c2-aa92-08eb6754d272"
      },
      "execution_count": null,
      "outputs": [
        {
          "output_type": "execute_result",
          "data": {
            "text/plain": [
              "[1, 3, 5, 15]"
            ]
          },
          "metadata": {},
          "execution_count": 5
        }
      ]
    },
    {
      "cell_type": "markdown",
      "source": [
        "#### Bonus Question: What is the purpose of number % divisor == 0 in that code?\n",
        "\n",
        "It determines if the number is divisible by the divisors. Essentially, it is checking if the divisor is indeed a factor of number.\n",
        "\n"
      ],
      "metadata": {
        "id": "XiejLe-7mcCZ"
      }
    },
    {
      "cell_type": "markdown",
      "source": [
        "### Question 3\n",
        "Alyssa was asked to write an implementation of a rolling buffer. You can add and remove elements from a rolling buffer. However, once the buffer becomes full, any new elements will displace the oldest elements in the buffer.\n",
        "\n",
        "She wrote two implementations of the code for adding elements to the buffer:\n",
        "```python\n",
        "def add_to_rolling_buffer1(buffer, max_buffer_size, new_element):\n",
        "    buffer.append(new_element)\n",
        "    if len(buffer) > max_buffer_size:\n",
        "        buffer.pop(0)\n",
        "    return buffer\n",
        "\n",
        "def add_to_rolling_buffer2(buffer, max_buffer_size, new_element):\n",
        "    buffer = buffer + [new_element]\n",
        "    if len(buffer) > max_buffer_size:\n",
        "        buffer.pop(0)\n",
        "    return buffer\n",
        "```\n",
        "Is there a difference between these implementations, other than the way she is adding an element to the buffer?"
      ],
      "metadata": {
        "id": "SPKbw3limd3g"
      }
    },
    {
      "cell_type": "markdown",
      "source": [
        "Yes, there is a difference. The first function (add_to_rolling_buffer1) mutates the original list represented by buffer. The second function (add_to_rolling_buffer2) does not mutate the original list, but instead creates a new list and assigns it to buffer, whose value ultimately gets returned by the function.\n",
        "\n"
      ],
      "metadata": {
        "id": "q10TVpsgmdxE"
      }
    },
    {
      "cell_type": "markdown",
      "source": [
        "### Question 4\n",
        "What will the following two lines of code output?\n"
      ],
      "metadata": {
        "id": "x5XtCPgepKF6"
      }
    },
    {
      "cell_type": "code",
      "source": [
        "print(0.3 + 0.6)\n",
        "print(0.3 + 0.6 == 0.9)"
      ],
      "metadata": {
        "colab": {
          "base_uri": "https://localhost:8080/"
        },
        "id": "79zjl77jlcKe",
        "outputId": "e3bac45b-5cb8-4b8b-b4ae-b62855e35d2d"
      },
      "execution_count": null,
      "outputs": [
        {
          "output_type": "stream",
          "name": "stdout",
          "text": [
            "0.8999999999999999\n",
            "False\n"
          ]
        }
      ]
    },
    {
      "cell_type": "code",
      "source": [
        "import math\n",
        "\n",
        "print(0.3 + 0.6)\n",
        "print(0.3 + 0.6 == 0.9)\n",
        "print(math.isclose(0.3 + 0.6, 0.9))"
      ],
      "metadata": {
        "colab": {
          "base_uri": "https://localhost:8080/"
        },
        "id": "1tSzbC_LpiAz",
        "outputId": "073894e0-bf9b-4584-b4ee-3c131a6ad127"
      },
      "execution_count": null,
      "outputs": [
        {
          "output_type": "stream",
          "name": "stdout",
          "text": [
            "0.8999999999999999\n",
            "False\n",
            "True\n"
          ]
        }
      ]
    },
    {
      "cell_type": "markdown",
      "source": [
        "### Question 5\n",
        "What do you think the following code will output?\n",
        "\n",
        "```python\n",
        "nan_value = float(\"nan\")\n",
        "\n",
        "print(nan_value == float(\"nan\"))\n",
        "```\n"
      ],
      "metadata": {
        "id": "BdTArgfjrKMh"
      }
    },
    {
      "cell_type": "code",
      "source": [
        "nan_value = float(\"nan\")\n",
        "\n",
        "print(nan_value == float(\"nan\"))"
      ],
      "metadata": {
        "colab": {
          "base_uri": "https://localhost:8080/"
        },
        "id": "mKjovTV1r_6i",
        "outputId": "6eebd7be-3cd0-4fd1-f6dd-038bff28074a"
      },
      "execution_count": null,
      "outputs": [
        {
          "output_type": "stream",
          "name": "stdout",
          "text": [
            "False\n"
          ]
        }
      ]
    },
    {
      "cell_type": "markdown",
      "source": [
        "The output is False. nan -- not a number -- is a special numeric value that indicates that an operation that was intended to return a number failed. Python doesn't let you use == to determine whether a value is nan.\n",
        "\n"
      ],
      "metadata": {
        "id": "sMiL9JKIr1k6"
      }
    },
    {
      "cell_type": "code",
      "source": [
        "# To test whether the value is nan, you can use the math.isnan() function\n",
        "\n",
        "import math\n",
        "\n",
        "nan_value = float(\"nan\")\n",
        "\n",
        "print(math.isnan(nan_value))"
      ],
      "metadata": {
        "colab": {
          "base_uri": "https://localhost:8080/"
        },
        "id": "uChBmhy4qyMX",
        "outputId": "bfc915bf-ee45-459e-a44f-b1c87f0ea822"
      },
      "execution_count": null,
      "outputs": [
        {
          "output_type": "stream",
          "name": "stdout",
          "text": [
            "True\n"
          ]
        }
      ]
    },
    {
      "cell_type": "markdown",
      "source": [
        "### Question 6\n",
        "What is the output of the following code?"
      ],
      "metadata": {
        "id": "__KbWvOcspVU"
      }
    },
    {
      "cell_type": "code",
      "source": [
        "answer = 42\n",
        "\n",
        "def mess_with_it(some_number):\n",
        "    return some_number + 8\n",
        "\n",
        "new_answer = mess_with_it(answer)\n",
        "\n",
        "print(answer - 8)\n",
        "\n",
        "# Think variable scope"
      ],
      "metadata": {
        "colab": {
          "base_uri": "https://localhost:8080/"
        },
        "id": "M6I1HB5ArjNJ",
        "outputId": "5e910e5a-c94b-4416-ca02-80aa678a774b"
      },
      "execution_count": null,
      "outputs": [
        {
          "output_type": "stream",
          "name": "stdout",
          "text": [
            "34\n"
          ]
        }
      ]
    },
    {
      "cell_type": "markdown",
      "source": [
        "### Question 7\n",
        "One day, Spot was playing with the Munster family's home computer, and he wrote a small program to mess with their demographic data:\n",
        "\n",
        "```python\n",
        "munsters = {\n",
        "    \"Herman\": {\"age\": 32, \"gender\": \"male\"},\n",
        "    \"Lily\": {\"age\": 30, \"gender\": \"female\"},\n",
        "    \"Grandpa\": {\"age\": 402, \"gender\": \"male\"},\n",
        "    \"Eddie\": {\"age\": 10, \"gender\": \"male\"},\n",
        "    \"Marilyn\": {\"age\": 23, \"gender\": \"female\"},\n",
        "}\n",
        "\n",
        "def mess_with_demographics(demo_dict):\n",
        "    for key, value in demo_dict.items():\n",
        "        value[\"age\"] += 42\n",
        "        value[\"gender\"] = \"other\"\n",
        "```\n",
        "After writing this function, he typed the following code:\n",
        "\n",
        "```python\n",
        "mess_with_demographics(munsters)\n",
        "```\n",
        "Before Grandpa could stop him, Spot hit the Enter key with his tail. Did the family's data get ransacked? Why or why not?\n"
      ],
      "metadata": {
        "id": "G6XNzrqZtqzo"
      }
    },
    {
      "cell_type": "code",
      "source": [
        "munsters = {\n",
        "    \"Herman\": {\"age\": 32, \"gender\": \"male\"},\n",
        "    \"Lily\": {\"age\": 30, \"gender\": \"female\"},\n",
        "    \"Grandpa\": {\"age\": 402, \"gender\": \"male\"},\n",
        "    \"Eddie\": {\"age\": 10, \"gender\": \"male\"},\n",
        "    \"Marilyn\": {\"age\": 23, \"gender\": \"female\"},\n",
        "}\n",
        "\n",
        "print (munsters)\n",
        "\n",
        "def mess_with_demographics(demo_dict):\n",
        "    for key, value in demo_dict.items():\n",
        "        value[\"age\"] += 42\n",
        "        value[\"gender\"] = \"other\"\n",
        "\n",
        "mess_with_demographics(munsters)\n",
        "\n",
        "print(munsters)"
      ],
      "metadata": {
        "colab": {
          "base_uri": "https://localhost:8080/"
        },
        "id": "41WStnEot4gX",
        "outputId": "82ba5f00-9364-4a67-968c-5d19a748fd7b"
      },
      "execution_count": null,
      "outputs": [
        {
          "output_type": "stream",
          "name": "stdout",
          "text": [
            "{'Herman': {'age': 32, 'gender': 'male'}, 'Lily': {'age': 30, 'gender': 'female'}, 'Grandpa': {'age': 402, 'gender': 'male'}, 'Eddie': {'age': 10, 'gender': 'male'}, 'Marilyn': {'age': 23, 'gender': 'female'}}\n",
            "{'Herman': {'age': 74, 'gender': 'other'}, 'Lily': {'age': 72, 'gender': 'other'}, 'Grandpa': {'age': 444, 'gender': 'other'}, 'Eddie': {'age': 52, 'gender': 'other'}, 'Marilyn': {'age': 65, 'gender': 'other'}}\n"
          ]
        }
      ]
    },
    {
      "cell_type": "markdown",
      "source": [
        "Spot will find himself in the \"dog house\" for this one. The family's data is in shambles now.\n",
        "\n",
        "Why? In Python, dictionaries are mutable, and when passed to a function, a reference to the dictionary is passed, not a copy. Thus, Spot's demo_dict starts off pointing to the munsters object. As a result, the changes made within the function directly affect the munsters dictionary. The key aspect here is that the nested dictionaries (the individual family members' data) are the ones being mutated. Each family member's dictionary ({\"age\": x, \"gender\": y}) is accessed and modified. Since these nested dictionaries are part of the larger munsters dictionary, the changes are reflected in the original data structure.\n",
        "\n",
        "His program could replace that with some other object, and the family's data would be safe. However, in this case, the program doesn't reassign demo_dict; it just uses it, as-is. Thus, the object that gets changed by the function is the munsters object.\n",
        "\n"
      ],
      "metadata": {
        "id": "bTuHcHA3t16t"
      }
    },
    {
      "cell_type": "markdown",
      "source": [
        "### Question 9\n",
        "Consider these two simple functions:\n",
        "\n",
        "``` python\n",
        "def foo(param=\"no\"):\n",
        "    return \"yes\"\n",
        "\n",
        "def bar(param=\"no\"):\n",
        "    return (param == \"no\") and (foo() or \"no\")\n",
        "```\n",
        "What will the following function invocation return?\n",
        "\n",
        "```\n",
        "bar(foo())\n",
        "```\n"
      ],
      "metadata": {
        "id": "dN0uIfv0xqx0"
      }
    },
    {
      "cell_type": "code",
      "source": [
        "def foo(param=\"no\"):\n",
        "    return \"yes\"\n",
        "\n",
        "def bar(param=\"no\"):\n",
        "    return (param == \"no\") and (foo() or \"no\")\n",
        "\n",
        "print(bar(foo()))"
      ],
      "metadata": {
        "colab": {
          "base_uri": "https://localhost:8080/"
        },
        "id": "kpQd_8NuysYA",
        "outputId": "2652c3ae-b7a4-48ae-87b5-92f8688682d8"
      },
      "execution_count": null,
      "outputs": [
        {
          "output_type": "stream",
          "name": "stdout",
          "text": [
            "False\n"
          ]
        }
      ]
    },
    {
      "cell_type": "markdown",
      "source": [
        "When bar(foo()) is called, the foo function is executed first, returning \"yes\". This return value (\"yes\") is then passed as the argument to the bar function. In bar, the parameter param is now \"yes\". The expression (param == \"no\") and (foo() or \"no\") is evaluated as follows:\n",
        "\n",
        "* param == \"no\" evaluates to False since param is \"yes\".\n",
        "* Due to the and operator, (foo() or \"no\") is not executed since the first part of the and expression is already False.\n",
        "* Since the left side of the and is False, Python returns False.\n"
      ],
      "metadata": {
        "id": "_X-UQr01y1jY"
      }
    },
    {
      "cell_type": "markdown",
      "source": [
        "### Question 10\n",
        "In Python, every object has a unique identifier that can be accessed using the id() function. This function returns the identity of an object, which is guaranteed to be unique for the object's lifetime. For certain basic immutable data types like short strings or integers, Python might reuse the memory address for objects with the same value. This is known as \"interning\".\n",
        "\n",
        "Given the following code, predict the output:\n"
      ],
      "metadata": {
        "id": "T7mysaMfzN9L"
      }
    },
    {
      "cell_type": "code",
      "source": [
        "a = 42\n",
        "b = 42\n",
        "c = a\n",
        "\n",
        "print(id(a) == id(b) == id(c))"
      ],
      "metadata": {
        "colab": {
          "base_uri": "https://localhost:8080/"
        },
        "id": "hTMxVXc1sskG",
        "outputId": "648df5dd-ae19-4e1a-f2c0-2758d5ded8dd"
      },
      "execution_count": null,
      "outputs": [
        {
          "output_type": "stream",
          "name": "stdout",
          "text": [
            "True\n"
          ]
        }
      ]
    },
    {
      "cell_type": "markdown",
      "source": [
        "The output is True.\n",
        "\n",
        "Here, a and c reference the same object in memory, so their ids are the same. b will, in this case, have the same id as a and c due to interning. Therefore, the code will output True.\n",
        "\n",
        "In Python, there's a predefined range of integers, specifically from -5 to 256, for which memory locations are pre-assigned. When you reference an integer within this span, Python consistently points to the same memory spot. This strategy enhances efficiency since these particular numbers are commonly utilized in many programming scenarios.\n",
        "\n",
        "However, when you work with integers outside of this specific range, Python doesn't assure that it will consistently point to the same memory address for identical values across different variables.\n",
        "\n"
      ],
      "metadata": {
        "id": "Mfh-e45izS5J"
      }
    },
    {
      "cell_type": "markdown",
      "source": [
        "## Hard 1"
      ],
      "metadata": {
        "id": "iFKpy_873GEf"
      }
    },
    {
      "cell_type": "markdown",
      "source": [
        "### Question 1\n",
        "Will the following functions return the same results?\n",
        "\n"
      ],
      "metadata": {
        "id": "kmMNauuJ3KHv"
      }
    },
    {
      "cell_type": "code",
      "source": [
        "def first():\n",
        "    return {\n",
        "        'prop1': \"hi there\",\n",
        "    }\n",
        "\n",
        "def second():\n",
        "    return\n",
        "    {\n",
        "        'prop1': \"hi there\",\n",
        "    }\n",
        "\n",
        "print(first())\n",
        "print(second())"
      ],
      "metadata": {
        "colab": {
          "base_uri": "https://localhost:8080/"
        },
        "id": "TC-wDSNozQrv",
        "outputId": "42e3ff3f-2f8a-47cf-ac2b-1071c0416b7e"
      },
      "execution_count": null,
      "outputs": [
        {
          "output_type": "stream",
          "name": "stdout",
          "text": [
            "{'prop1': 'hi there'}\n",
            "None\n"
          ]
        }
      ]
    },
    {
      "cell_type": "markdown",
      "source": [
        "In Python, if there's nothing after a return statement, the function will return None. The indented block after the return statement in second function is unreachable and doesn't affect the return value.\n",
        "\n"
      ],
      "metadata": {
        "id": "9J2u7lol3dIn"
      }
    },
    {
      "cell_type": "markdown",
      "source": [
        "### Question 2\n",
        "What does the last line in the following code output?\n",
        "\n"
      ],
      "metadata": {
        "id": "XYsXndrT3ewr"
      }
    },
    {
      "cell_type": "code",
      "source": [
        "dictionary = {'first': [1]}\n",
        "num_list = dictionary['first']\n",
        "num_list.append(2)\n",
        "\n",
        "print(num_list)\n",
        "print(dictionary)"
      ],
      "metadata": {
        "colab": {
          "base_uri": "https://localhost:8080/"
        },
        "id": "7DRu5ZIe3Zed",
        "outputId": "d62e35a8-a4fc-4189-ac62-ae1b65731a03"
      },
      "execution_count": null,
      "outputs": [
        {
          "output_type": "stream",
          "name": "stdout",
          "text": [
            "[1, 2]\n",
            "{'first': [1, 2]}\n"
          ]
        }
      ]
    },
    {
      "cell_type": "markdown",
      "source": [
        "Since num_list is a reference to the original list in dictionary, appending to num_list modifies the list. Thus, the original dictionary is also updated.\n",
        "\n"
      ],
      "metadata": {
        "id": "MppP_F-54NcS"
      }
    },
    {
      "cell_type": "code",
      "source": [
        "dictionary = {\"first\": [1]}\n",
        "num_list = dictionary[\"first\"].copy()\n",
        "num_list.append(2)\n",
        "\n",
        "print(num_list)\n",
        "print(dictionary)"
      ],
      "metadata": {
        "colab": {
          "base_uri": "https://localhost:8080/"
        },
        "id": "5F9TMsv44BDF",
        "outputId": "9fec82c1-e4ed-40f6-d36e-88676bc79b8f"
      },
      "execution_count": null,
      "outputs": [
        {
          "output_type": "stream",
          "name": "stdout",
          "text": [
            "[1, 2]\n",
            "{'first': [1]}\n"
          ]
        }
      ]
    },
    {
      "cell_type": "markdown",
      "source": [
        "### Question 3\n",
        "Given the following similar sets of code, what will each code snippet print?\n",
        "\n"
      ],
      "metadata": {
        "id": "egmrmN494lXH"
      }
    },
    {
      "cell_type": "code",
      "source": [
        "def mess_with_vars(one, two, three):\n",
        "    one = two\n",
        "    two = three\n",
        "    three = one\n",
        "\n",
        "one = [\"one\"]\n",
        "two = [\"two\"]\n",
        "three = [\"three\"]\n",
        "\n",
        "mess_with_vars(one, two, three)\n",
        "\n",
        "print(f\"one is: {one}\")\n",
        "print(f\"two is: {two}\")\n",
        "print(f\"three is: {three}\")"
      ],
      "metadata": {
        "colab": {
          "base_uri": "https://localhost:8080/"
        },
        "id": "Rn-4NoGW4HbI",
        "outputId": "2915539d-ec4c-426b-fc79-60cb3fe7c86c"
      },
      "execution_count": null,
      "outputs": [
        {
          "output_type": "stream",
          "name": "stdout",
          "text": [
            "one is: ['one']\n",
            "two is: ['two']\n",
            "three is: ['three']\n"
          ]
        }
      ]
    },
    {
      "cell_type": "code",
      "source": [
        "def mess_with_vars(one, two, three):\n",
        "    one = [\"two\"]\n",
        "    two = [\"three\"]\n",
        "    three = [\"one\"]\n",
        "\n",
        "one = [\"one\"]\n",
        "two = [\"two\"]\n",
        "three = [\"three\"]\n",
        "\n",
        "mess_with_vars(one, two, three)\n",
        "\n",
        "print(f\"one is: {one}\")\n",
        "print(f\"two is: {two}\")\n",
        "print(f\"three is: {three}\")"
      ],
      "metadata": {
        "colab": {
          "base_uri": "https://localhost:8080/"
        },
        "id": "f_gzxmdV4oD2",
        "outputId": "8c15e82f-cc89-44ba-a2ec-843cd506e0de"
      },
      "execution_count": null,
      "outputs": [
        {
          "output_type": "stream",
          "name": "stdout",
          "text": [
            "one is: ['one']\n",
            "two is: ['two']\n",
            "three is: ['three']\n"
          ]
        }
      ]
    },
    {
      "cell_type": "code",
      "source": [
        "def mess_with_vars(one, two, three):\n",
        "    one[0] = \"two\"\n",
        "    two[0] = \"three\"\n",
        "    three[0] = \"one\"\n",
        "\n",
        "one = [\"one\"]\n",
        "two = [\"two\"]\n",
        "three = [\"three\"]\n",
        "\n",
        "mess_with_vars(one, two, three)\n",
        "\n",
        "print(f\"one is: {one}\")\n",
        "print(f\"two is: {two}\")\n",
        "print(f\"three is: {three}\")"
      ],
      "metadata": {
        "colab": {
          "base_uri": "https://localhost:8080/"
        },
        "id": "hXJm9F6L40c1",
        "outputId": "384d7060-9bc0-4e4b-d34b-d1b2b229e213"
      },
      "execution_count": null,
      "outputs": [
        {
          "output_type": "stream",
          "name": "stdout",
          "text": [
            "one is: ['two']\n",
            "two is: ['three']\n",
            "three is: ['one']\n"
          ]
        }
      ]
    },
    {
      "cell_type": "markdown",
      "source": [
        "A and B don't change it because we are messing with local vs global scope.\n",
        "\n",
        "However, C is changes because lists are mutable and in C, we are mutating the lists, not reassigning."
      ],
      "metadata": {
        "id": "blPL-0RU5So0"
      }
    },
    {
      "cell_type": "markdown",
      "source": [
        "### Question 4\n",
        "Ben was tasked to write a simple Python function to determine whether an input string is an IP address using 4 dot-separated numbers, e.g., 10.4.5.11.\n",
        "\n",
        "Alyssa supplied Ben with a function named is_an_ip_number. It determines whether a string is a numeric string between 0 and 255 as required for IP numbers and asked Ben to use it. Here's the code that Ben wrote:\n",
        "\n",
        "```python\n",
        "def is_dot_separated_ip_address(input_string):\n",
        "    dot_separated_words = input_string.split(\".\")\n",
        "    while len(dot_separated_words) > 0:\n",
        "        word = dot_separated_words.pop()\n",
        "        if not is_an_ip_number(word):\n",
        "            break\n",
        "\n",
        "    return True\n",
        "```\n",
        "Alyssa reviewed Ben's code and said, \"It's a good start, but you missed a few things. You're not returning a false condition, and you're not handling the case when the input string has more or less than 4 components, e.g., 4.5.5 or 1.2.3.4.5: both those values should be invalid.\"\n",
        "\n",
        "Help Ben fix his code.\n",
        "\n"
      ],
      "metadata": {
        "id": "vDJt2H1j5jWD"
      }
    },
    {
      "cell_type": "code",
      "source": [
        "def is_an_ip_number(str):\n",
        "    if str.isdigit():\n",
        "        number = int(str)\n",
        "        return 0 <= number <= 255\n",
        "    return False\n",
        "\n",
        "def is_dot_separated_ip_address(input_string):\n",
        "    dot_separated_words = input_string.split(\".\")\n",
        "    while len(dot_separated_words) == 4:\n",
        "        for word in dot_separated_words:\n",
        "            if not is_an_ip_number(word):\n",
        "                return False\n",
        "        return True\n",
        "    return False\n",
        "\n",
        "print(is_dot_separated_ip_address(\"192.168.1.1\"))          # Expected: True\n",
        "print(is_dot_separated_ip_address(\"255.255.255.255\"))      # Expected: True\n",
        "print(is_dot_separated_ip_address(\"0.0.0.0\"))              # Expected: True\n",
        "print(is_dot_separated_ip_address(\"1.2.3.4\"))              # Expected: True\n",
        "print(is_dot_separated_ip_address(\"127.0.0.1\"))            # Expected: True\n",
        "print(is_dot_separated_ip_address(\"192.168.0.256\"))        # Expected: False (256 is out of range)\n",
        "print(is_dot_separated_ip_address(\"192.168.1\"))            # Expected: False (only 3 parts)\n",
        "print(is_dot_separated_ip_address(\"192.168.1.1.1\"))        # Expected: False (5 parts)\n",
        "print(is_dot_separated_ip_address(\"192.168.one.1\"))        # Expected: False (non-numeric part)\n",
        "print(is_dot_separated_ip_address(\"192.168.-1.1\"))         # Expected: False (negative number)\n",
        "print(is_dot_separated_ip_address(\"192.168.1.01\"))         # Expected: True (leading zero is allowed in Python's `int` conversion)\n",
        "print(is_dot_separated_ip_address(\"256.256.256.256\"))      # Expected: False (all parts out of range)\n",
        "print(is_dot_separated_ip_address(\"192.168.1. \"))          # Expected: False (trailing space in a part)\n",
        "print(is_dot_separated_ip_address(\"192..168.1.1\"))         # Expected: False (empty part between dots)\n",
        "print(is_dot_separated_ip_address(\"\"))                     # Expected: False (empty string)\n",
        "print(is_dot_separated_ip_address(\"192.168.1.1 \"))         # Expected: False (trailing space in the IP)\n",
        "print(is_dot_separated_ip_address(\" 192.168.1.1\"))         # Expected: False (leading space in the IP)\n",
        "print(is_dot_separated_ip_address(\"192,168,1,1\"))          # Expected: False (commas instead of dots)\n",
        "print(is_dot_separated_ip_address(\"192.168.1.1.0\"))        # Expected: False (5 parts)\n",
        "print(is_dot_separated_ip_address(\"192.168.1\"))            # Expected: False (only 3 parts)"
      ],
      "metadata": {
        "colab": {
          "base_uri": "https://localhost:8080/"
        },
        "id": "ulGUKMlw5Ahu",
        "outputId": "0c0ad390-bd0d-46f5-ddbd-f4d5987d4b5b"
      },
      "execution_count": null,
      "outputs": [
        {
          "output_type": "stream",
          "name": "stdout",
          "text": [
            "True\n",
            "True\n",
            "True\n",
            "True\n",
            "True\n",
            "False\n",
            "False\n",
            "False\n",
            "False\n",
            "False\n",
            "True\n",
            "False\n",
            "False\n",
            "False\n",
            "False\n",
            "False\n",
            "False\n",
            "False\n",
            "False\n",
            "False\n"
          ]
        }
      ]
    },
    {
      "cell_type": "markdown",
      "source": [
        "### Question 5\n",
        "What do you expect to happen when the greeting variable is referenced in the last line of the code below?"
      ],
      "metadata": {
        "id": "BRZkqHOO8zYm"
      }
    },
    {
      "cell_type": "code",
      "source": [
        "if False:\n",
        "    greeting = \"hello world\"\n",
        "\n",
        "print(greeting)"
      ],
      "metadata": {
        "colab": {
          "base_uri": "https://localhost:8080/",
          "height": 176
        },
        "id": "VmAvdhkp7lqG",
        "outputId": "a37304b3-a04e-4fe1-9e41-cff0632184a6"
      },
      "execution_count": null,
      "outputs": [
        {
          "output_type": "error",
          "ename": "NameError",
          "evalue": "name 'greeting' is not defined",
          "traceback": [
            "\u001b[0;31m---------------------------------------------------------------------------\u001b[0m",
            "\u001b[0;31mNameError\u001b[0m                                 Traceback (most recent call last)",
            "\u001b[0;32m<ipython-input-38-3df6d3ad4a54>\u001b[0m in \u001b[0;36m<cell line: 4>\u001b[0;34m()\u001b[0m\n\u001b[1;32m      2\u001b[0m     \u001b[0mgreeting\u001b[0m \u001b[0;34m=\u001b[0m \u001b[0;34m\"hello world\"\u001b[0m\u001b[0;34m\u001b[0m\u001b[0;34m\u001b[0m\u001b[0m\n\u001b[1;32m      3\u001b[0m \u001b[0;34m\u001b[0m\u001b[0m\n\u001b[0;32m----> 4\u001b[0;31m \u001b[0mprint\u001b[0m\u001b[0;34m(\u001b[0m\u001b[0mgreeting\u001b[0m\u001b[0;34m)\u001b[0m\u001b[0;34m\u001b[0m\u001b[0;34m\u001b[0m\u001b[0m\n\u001b[0m",
            "\u001b[0;31mNameError\u001b[0m: name 'greeting' is not defined"
          ]
        }
      ]
    },
    {
      "cell_type": "markdown",
      "source": [
        "In Python, referencing an uninitialized variable will result in a NameError being raised. This is because the if block is not executed due to the False condition, and hence, the greeting variable is never initialized.\n",
        "\n"
      ],
      "metadata": {
        "id": "uVvEcFol83WK"
      }
    }
  ]
}